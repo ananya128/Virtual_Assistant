{
 "cells": [
  {
   "cell_type": "code",
   "execution_count": null,
   "id": "f730d90b",
   "metadata": {},
   "outputs": [
    {
     "name": "stdout",
     "output_type": "stream",
     "text": [
      "Speak\n",
      "Sorry I did not get that\n"
     ]
    }
   ],
   "source": [
    "import wolframalpha\n",
    "import wikipedia\n",
    "import PySimpleGUI as sg\n",
    "import pyttsx3\n",
    "import speech_recognition as sr\n",
    "r = sr.Recognizer()\n",
    "\n",
    "with sr.Microphone() as source:\n",
    "    print('Speak')\n",
    "    audio_text = r.listen(source)\n",
    "   \n",
    "   \n",
    "    try:\n",
    "        print('Text: ' + r.recognize_google(audio_text))\n",
    "        print('hi I am Jarvis ! and i am here to assist you !' )\n",
    "    except:\n",
    "        print('Sorry I did not get that')\n",
    "       \n",
    "       \n",
    "client= wolframalpha.Client('A839X4-HTT93P2R96')\n",
    "\n",
    "sg.theme('TanBlue')   # Add a touch of color\n",
    "# All the stuff inside your window.\n",
    "layout = [[sg.Text('Enter a command !'), sg.InputText()],\n",
    "            [sg.Button('Ok'), sg.Button('Cancel')] ]\n",
    "\n",
    "# Create the Window\n",
    "window = sg.Window('Jarvis101', layout)\n",
    "# Event Loop to process \"events\" and get the \"values\" of the inputs\n",
    "while True: #window stays open until user clicks cancel\n",
    "    event, values = window.read()\n",
    "    if event in (None, 'Cancel'): # if user closes window or clicks cancel\n",
    "        break\n",
    "       \n",
    "   \n",
    "    engine= pyttsx3.init()\n",
    "    try:\n",
    "        wikires= wikipedia.summary(values[0], sentences=2)\n",
    "        wolframres= next(client.query(values[0]).results).text\n",
    "        engine.say(wolframres)\n",
    "        sg.PopupNonBlocking(\"wolfram result: \\n\"+wolframres,\"Wiki result: \\n\"+wikires)\n",
    "    except wikipedia.exceptions.DisambiguationError:\n",
    "        wolframres= next(client.query(values[0]).results).text\n",
    "        engine.say(wolframres)\n",
    "        sg.PopupNonBlocking(wolframres)\n",
    "    except wikipedia.exceptions.PageError:\n",
    "        wolframres= next(client.query(values[0]).results).text\n",
    "        engine.say(wolframres)\n",
    "        sg.PopupNonBlocking(wolframres)\n",
    "    except:\n",
    "        wikires= wikipedia.summary(values[0], sentences=2)\n",
    "        engine.say(wikires)\n",
    "        sg.PopupNonBlocking(wikires)\n",
    "   \n",
    "    engine.runAndWait()\n"
   ]
  },
  {
   "cell_type": "code",
   "execution_count": null,
   "id": "0f8ffdf5",
   "metadata": {},
   "outputs": [],
   "source": []
  }
 ],
 "metadata": {
  "kernelspec": {
   "display_name": "Python 3 (ipykernel)",
   "language": "python",
   "name": "python3"
  },
  "language_info": {
   "codemirror_mode": {
    "name": "ipython",
    "version": 3
   },
   "file_extension": ".py",
   "mimetype": "text/x-python",
   "name": "python",
   "nbconvert_exporter": "python",
   "pygments_lexer": "ipython3",
   "version": "3.10.2"
  }
 },
 "nbformat": 4,
 "nbformat_minor": 5
}
